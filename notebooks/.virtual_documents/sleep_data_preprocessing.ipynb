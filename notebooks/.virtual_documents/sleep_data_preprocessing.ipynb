


import pandas as pd
import numpy as np
import matplotlib.pyplot as plt
import seaborn as sns

sns.set_theme()
sns.set_palette('husl')





# Charger les données
df = pd.read_csv('../data/Sleep_health_and_lifestyle_dataset.csv')
print('Dimensions du dataset:', df.shape)
df.head()





# Informations sur les colonnes
print('\nInformations sur les colonnes:')
df.info()


# Statistiques descriptives
print('\nStatistiques descriptives:')
df.describe()





# Vérifier les valeurs manquantes
print('Valeurs manquantes par colonne:')
df.isnull().sum()


# Vérifier les doublons
print('\nNombre de doublons:', df.duplicated().sum())





# Convertir les variables catégorielles
df['Gender_num'] = (df['Gender'] == 'Male').astype(int)
df['Blood_Pressure_num'] = (df['Blood Pressure'] == 'High').astype(int)





# Sélectionner les colonnes numériques pour la corrélation
numeric_cols = ['Age', 'Sleep Duration', 'Quality of Sleep', 'Physical Activity Level',
               'Stress Level', 'Heart Rate', 'Daily Steps', 'Gender_num', 'Blood_Pressure_num']

# Calculer et afficher la matrice de corrélation
correlation = df[numeric_cols].corr()
plt.figure(figsize=(12, 10))
sns.heatmap(correlation, annot=True, cmap='coolwarm', center=0)
plt.title('Matrice de Corrélation des Features')
plt.show()





# Sauvegarder les données prétraitées
df.to_csv('../data/sleep_data_processed.csv', index=False)
print('Données prétraitées sauvegardées avec succès!')












