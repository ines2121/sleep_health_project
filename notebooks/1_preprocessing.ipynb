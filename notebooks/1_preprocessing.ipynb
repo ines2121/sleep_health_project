{
 "cells": [
  {
   "cell_type": "code",
   "execution_count": 3,
   "id": "8fbcf169-2c37-4bb1-bb03-e7d16da46e59",
   "metadata": {},
   "outputs": [],
   "source": [
    "import pandas as pd\n",
    "import numpy as np\n",
    "from sklearn.preprocessing import StandardScaler\n",
    "import joblib"
   ]
  },
  {
   "cell_type": "markdown",
   "id": "4f63b994-7789-4f90-9a65-34b6e9b808c7",
   "metadata": {},
   "source": [
    "# 1. Chargement des données"
   ]
  },
  {
   "cell_type": "code",
   "execution_count": 4,
   "id": "41b2a020-472b-4b6a-a31a-9e8e1095a792",
   "metadata": {},
   "outputs": [],
   "source": [
    "file_path = \"/Users/ines/Downloads/fetal_health.csv.xls\"\n",
    "df = pd.read_csv(file_path)"
   ]
  },
  {
   "cell_type": "markdown",
   "id": "65276390-fed3-4f01-ae4a-fb69fac56928",
   "metadata": {},
   "source": [
    "# 2. Vérification et analyse des données"
   ]
  },
  {
   "cell_type": "code",
   "execution_count": 5,
   "id": "92869839-5dce-4ca2-9548-3160f00fcb25",
   "metadata": {},
   "outputs": [],
   "source": [
    "# Vérifier les valeurs manquantes\n",
    "missing_values = df.isnull().sum()\n",
    "\n",
    "# Afficher les statistiques descriptives\n",
    "stats = df.describe()\n",
    "\n",
    "# Vérifier la distribution des classes\n",
    "class_distribution = df[\"fetal_health\"].value_counts()"
   ]
  },
  {
   "cell_type": "markdown",
   "id": "e4825c56-750a-479f-ba6c-0c641d78d689",
   "metadata": {},
   "source": [
    "# 3. Séparation des features et de la cible"
   ]
  },
  {
   "cell_type": "code",
   "execution_count": 6,
   "id": "6956e819-5906-451d-8162-becf65c5c84d",
   "metadata": {},
   "outputs": [],
   "source": [
    "X = df.drop(columns=[\"fetal_health\"])\n",
    "y = df[\"fetal_health\"]"
   ]
  },
  {
   "cell_type": "markdown",
   "id": "10e848c5-ecb1-4a5b-8ad6-afd095d5b378",
   "metadata": {},
   "source": [
    "# 4. Normalisation des données"
   ]
  },
  {
   "cell_type": "code",
   "execution_count": 7,
   "id": "617172f8-a4f0-40e5-a03f-9ac833ee3f0b",
   "metadata": {},
   "outputs": [],
   "source": [
    "scaler = StandardScaler()\n",
    "X_scaled = scaler.fit_transform(X)"
   ]
  },
  {
   "cell_type": "markdown",
   "id": "2d1c1dea-90a3-4075-99e4-cfcdc3e3b1a2",
   "metadata": {},
   "source": [
    "# 5. Sauvegarde du scaler"
   ]
  },
  {
   "cell_type": "code",
   "execution_count": 12,
   "id": "9f7bffbd-2f39-4eb7-8af3-30d0caf64b6b",
   "metadata": {},
   "outputs": [
    {
     "data": {
      "text/plain": [
       "['/Users/ines/Desktop/fetal_health_project/data/scaler.pkl']"
      ]
     },
     "execution_count": 12,
     "metadata": {},
     "output_type": "execute_result"
    }
   ],
   "source": [
    "# Définir le chemin pour enregistrer le scaler\n",
    "scaler_path = \"/Users/ines/Desktop/fetal_health_project/data/scaler.pkl\"\n",
    "\n",
    "# Sauvegarder l'objet scaler\n",
    "joblib.dump(scaler, scaler_path)"
   ]
  },
  {
   "cell_type": "markdown",
   "id": "7a308b90-ae18-4d23-ae7a-a33daa85ccdc",
   "metadata": {},
   "source": [
    "# 6. Sauvegarde des données prétraitées"
   ]
  },
  {
   "cell_type": "code",
   "execution_count": 14,
   "id": "1b76f429-056b-4baa-9996-821933a6dc1a",
   "metadata": {},
   "outputs": [],
   "source": [
    "# Convertir les données normalisées en DataFrame\n",
    "processed_data = pd.DataFrame(X_scaled, columns=X.columns)\n",
    "\n",
    "# Ajouter la colonne cible\n",
    "processed_data[\"fetal_health\"] = y\n",
    "\n",
    "# Définir le chemin du fichier prétraité\n",
    "preprocessed_data_path = \"/Users/ines/Desktop/fetal_health_project/data/fetal_health_preprocessed.csv\"\n",
    "\n",
    "# Sauvegarder le DataFrame prétraité en CSV\n",
    "processed_data.to_csv(preprocessed_data_path, index=False)"
   ]
  },
  {
   "cell_type": "code",
   "execution_count": 16,
   "id": "cfe5f604-7fac-4e5d-9bd7-e7ce6d3ca7c2",
   "metadata": {},
   "outputs": [
    {
     "data": {
      "text/plain": [
       "(baseline value                                            0\n",
       " accelerations                                             0\n",
       " fetal_movement                                            0\n",
       " uterine_contractions                                      0\n",
       " light_decelerations                                       0\n",
       " severe_decelerations                                      0\n",
       " prolongued_decelerations                                  0\n",
       " abnormal_short_term_variability                           0\n",
       " mean_value_of_short_term_variability                      0\n",
       " percentage_of_time_with_abnormal_long_term_variability    0\n",
       " mean_value_of_long_term_variability                       0\n",
       " histogram_width                                           0\n",
       " histogram_min                                             0\n",
       " histogram_max                                             0\n",
       " histogram_number_of_peaks                                 0\n",
       " histogram_number_of_zeroes                                0\n",
       " histogram_mode                                            0\n",
       " histogram_mean                                            0\n",
       " histogram_median                                          0\n",
       " histogram_variance                                        0\n",
       " histogram_tendency                                        0\n",
       " fetal_health                                              0\n",
       " dtype: int64,\n",
       "        baseline value  accelerations  fetal_movement  uterine_contractions  \\\n",
       " count     2126.000000    2126.000000     2126.000000           2126.000000   \n",
       " mean       133.303857       0.003178        0.009481              0.004366   \n",
       " std          9.840844       0.003866        0.046666              0.002946   \n",
       " min        106.000000       0.000000        0.000000              0.000000   \n",
       " 25%        126.000000       0.000000        0.000000              0.002000   \n",
       " 50%        133.000000       0.002000        0.000000              0.004000   \n",
       " 75%        140.000000       0.006000        0.003000              0.007000   \n",
       " max        160.000000       0.019000        0.481000              0.015000   \n",
       " \n",
       "        light_decelerations  severe_decelerations  prolongued_decelerations  \\\n",
       " count          2126.000000           2126.000000               2126.000000   \n",
       " mean              0.001889              0.000003                  0.000159   \n",
       " std               0.002960              0.000057                  0.000590   \n",
       " min               0.000000              0.000000                  0.000000   \n",
       " 25%               0.000000              0.000000                  0.000000   \n",
       " 50%               0.000000              0.000000                  0.000000   \n",
       " 75%               0.003000              0.000000                  0.000000   \n",
       " max               0.015000              0.001000                  0.005000   \n",
       " \n",
       "        abnormal_short_term_variability  mean_value_of_short_term_variability  \\\n",
       " count                      2126.000000                           2126.000000   \n",
       " mean                         46.990122                              1.332785   \n",
       " std                          17.192814                              0.883241   \n",
       " min                          12.000000                              0.200000   \n",
       " 25%                          32.000000                              0.700000   \n",
       " 50%                          49.000000                              1.200000   \n",
       " 75%                          61.000000                              1.700000   \n",
       " max                          87.000000                              7.000000   \n",
       " \n",
       "        percentage_of_time_with_abnormal_long_term_variability  ...  \\\n",
       " count                                         2126.00000       ...   \n",
       " mean                                             9.84666       ...   \n",
       " std                                             18.39688       ...   \n",
       " min                                              0.00000       ...   \n",
       " 25%                                              0.00000       ...   \n",
       " 50%                                              0.00000       ...   \n",
       " 75%                                             11.00000       ...   \n",
       " max                                             91.00000       ...   \n",
       " \n",
       "        histogram_min  histogram_max  histogram_number_of_peaks  \\\n",
       " count    2126.000000    2126.000000                2126.000000   \n",
       " mean       93.579492     164.025400                   4.068203   \n",
       " std        29.560212      17.944183                   2.949386   \n",
       " min        50.000000     122.000000                   0.000000   \n",
       " 25%        67.000000     152.000000                   2.000000   \n",
       " 50%        93.000000     162.000000                   3.000000   \n",
       " 75%       120.000000     174.000000                   6.000000   \n",
       " max       159.000000     238.000000                  18.000000   \n",
       " \n",
       "        histogram_number_of_zeroes  histogram_mode  histogram_mean  \\\n",
       " count                 2126.000000     2126.000000     2126.000000   \n",
       " mean                     0.323612      137.452023      134.610536   \n",
       " std                      0.706059       16.381289       15.593596   \n",
       " min                      0.000000       60.000000       73.000000   \n",
       " 25%                      0.000000      129.000000      125.000000   \n",
       " 50%                      0.000000      139.000000      136.000000   \n",
       " 75%                      0.000000      148.000000      145.000000   \n",
       " max                     10.000000      187.000000      182.000000   \n",
       " \n",
       "        histogram_median  histogram_variance  histogram_tendency  fetal_health  \n",
       " count       2126.000000         2126.000000         2126.000000   2126.000000  \n",
       " mean         138.090310           18.808090            0.320320      1.304327  \n",
       " std           14.466589           28.977636            0.610829      0.614377  \n",
       " min           77.000000            0.000000           -1.000000      1.000000  \n",
       " 25%          129.000000            2.000000            0.000000      1.000000  \n",
       " 50%          139.000000            7.000000            0.000000      1.000000  \n",
       " 75%          148.000000           24.000000            1.000000      1.000000  \n",
       " max          186.000000          269.000000            1.000000      3.000000  \n",
       " \n",
       " [8 rows x 22 columns],\n",
       " fetal_health\n",
       " 1.0    1655\n",
       " 2.0     295\n",
       " 3.0     176\n",
       " Name: count, dtype: int64)"
      ]
     },
     "execution_count": 16,
     "metadata": {},
     "output_type": "execute_result"
    }
   ],
   "source": [
    "# Affichage des informations utiles\n",
    "missing_values, stats, class_distribution"
   ]
  },
  {
   "cell_type": "code",
   "execution_count": null,
   "id": "96f21c24-a5ae-4803-a447-2d9f8924df86",
   "metadata": {},
   "outputs": [],
   "source": []
  }
 ],
 "metadata": {
  "kernelspec": {
   "display_name": "Python 3",
   "language": "python",
   "name": "python3"
  },
  "language_info": {
   "codemirror_mode": {
    "name": "ipython",
    "version": 3
   },
   "file_extension": ".py",
   "mimetype": "text/x-python",
   "name": "python",
   "nbconvert_exporter": "python",
   "pygments_lexer": "ipython3",
   "version": "3.13.1 (main, Dec  3 2024, 17:59:52) [Clang 16.0.0 (clang-1600.0.26.4)]"
  },
  "vscode": {
   "interpreter": {
    "hash": "b0fa6594d8f4cbf19f97940f81e996739fb7646882a419484c72d19e05852a7e"
   }
  }
 },
 "nbformat": 4,
 "nbformat_minor": 5
}
