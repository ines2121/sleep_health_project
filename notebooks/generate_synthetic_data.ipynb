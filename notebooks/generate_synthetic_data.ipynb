{
 "cells": [
  {
   "cell_type": "markdown",
   "metadata": {},
   "source": [
    "# Génération de Données Synthétiques pour le Modèle de Sommeil\n",
    "\n",
    "Ce notebook génère un jeu de données synthétique plus grand pour améliorer l'entraînement du modèle."
   ]
  },
  {
   "cell_type": "code",
   "execution_count": null,
   "metadata": {},
   "outputs": [],
   "source": [
    "import pandas as pd\n",
    "import numpy as np\n",
    "from sklearn.preprocessing import StandardScaler\n",
    "\n",
    "# Définir un seed pour la reproductibilité\n",
    "np.random.seed(42)"
   ]
  },
  {
   "cell_type": "code",
   "execution_count": null,
   "metadata": {},
   "outputs": [],
   "source": [
    "# Nombre d'échantillons à générer\n",
    "n_samples = 1000\n",
    "\n",
    "# Générer des données avec des relations réalistes\n",
    "data = {\n",
    "    'Age': np.random.normal(35, 10, n_samples).clip(18, 80),\n",
    "    'Gender': np.random.choice(['Male', 'Female'], n_samples),\n",
    "    'Sleep Duration': np.random.normal(7, 1.5, n_samples).clip(4, 10),\n",
    "    'Physical Activity Level': np.random.normal(45, 20, n_samples).clip(0, 120),\n",
    "    'Stress Level': np.random.normal(5, 2, n_samples).clip(1, 10),\n",
    "    'Heart Rate': np.random.normal(75, 10, n_samples).clip(60, 120),\n",
    "    'Daily Steps': np.random.normal(8000, 3000, n_samples).clip(2000, 25000),\n",
    "    'Blood Pressure': np.random.choice(['Normal', 'High'], n_samples, p=[0.7, 0.3])\n",
    "}\n",
    "\n",
    "df = pd.DataFrame(data)\n",
    "\n",
    "# Créer une fonction pour calculer la qualité du sommeil de manière réaliste\n",
    "def calculate_sleep_quality(row):\n",
    "    base_quality = 7.0\n",
    "    \n",
    "    # Impact de la durée du sommeil (optimal autour de 7-8 heures)\n",
    "    sleep_impact = -0.5 * abs(row['Sleep Duration'] - 7.5)\n",
    "    \n",
    "    # Impact du stress (plus de stress = moins bonne qualité)\n",
    "    stress_impact = -0.3 * row['Stress Level']\n",
    "    \n",
    "    # Impact de l'activité physique (plus d'activité = meilleure qualité, jusqu'à un certain point)\n",
    "    activity_impact = 0.02 * min(row['Physical Activity Level'], 60)\n",
    "    \n",
    "    # Impact des pas quotidiens\n",
    "    steps_impact = 0.0003 * min(row['Daily Steps'] - 5000, 10000)\n",
    "    \n",
    "    # Impact de la fréquence cardiaque (optimal autour de 70)\n",
    "    hr_impact = -0.02 * abs(row['Heart Rate'] - 70)\n",
    "    \n",
    "    # Calculer la qualité finale avec un peu de bruit aléatoire\n",
    "    quality = base_quality + sleep_impact + stress_impact + activity_impact + steps_impact + hr_impact\n",
    "    quality += np.random.normal(0, 0.5)\n",
    "    \n",
    "    return min(max(quality, 1), 10)\n",
    "\n",
    "# Calculer la qualité du sommeil\n",
    "df['Quality of Sleep'] = df.apply(calculate_sleep_quality, axis=1)\n",
    "\n",
    "# Convertir les variables catégorielles\n",
    "df['Gender_num'] = (df['Gender'] == 'Male').astype(int)\n",
    "df['Blood_Pressure_num'] = (df['Blood Pressure'] == 'High').astype(int)\n",
    "\n",
    "# Sauvegarder les données\n",
    "df.to_csv('../data/sleep_data_synthetic.csv', index=False)\n",
    "print(f\"Données générées et sauvegardées avec {n_samples} échantillons\")"
   ]
  }
 ],
 "metadata": {
  "kernelspec": {
   "display_name": "Python 3",
   "language": "python",
   "name": "python3"
  },
  "language_info": {
   "codemirror_mode": {
    "name": "ipython",
    "version": 3
   },
   "file_extension": ".py",
   "mimetype": "text/x-python",
   "name": "python",
   "nbconvert_exporter": "python",
   "pygments_lexer": "ipython3",
   "version": "3.9.0"
  }
 },
 "nbformat": 4,
 "nbformat_minor": 4
}
