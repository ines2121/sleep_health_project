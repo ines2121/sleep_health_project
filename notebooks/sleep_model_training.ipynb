{
 "cells": [
  {
   "cell_type": "markdown",
   "metadata": {},
   "source": [
    "# Entraînement du Modèle de Prédiction de la Qualité du Sommeil\n",
    "\n",
    "Ce notebook implémente l'entraînement et l'évaluation du modèle de prédiction de la qualité du sommeil."
   ]
  },
  {
   "cell_type": "code",
   "execution_count": 1,
   "metadata": {},
   "outputs": [
    {
     "name": "stderr",
     "output_type": "stream",
     "text": [
      "/Users/ines/.local/lib/python3.11/site-packages/pandas/core/arrays/masked.py:60: UserWarning: Pandas requires version '1.3.6' or newer of 'bottleneck' (version '1.3.5' currently installed).\n",
      "  from pandas.core import (\n"
     ]
    }
   ],
   "source": [
    "import pandas as pd\n",
    "import numpy as np\n",
    "from sklearn.model_selection import train_test_split, GridSearchCV\n",
    "from sklearn.preprocessing import StandardScaler\n",
    "from sklearn.ensemble import RandomForestRegressor, GradientBoostingRegressor\n",
    "from sklearn.metrics import mean_squared_error, r2_score\n",
    "import matplotlib.pyplot as plt\n",
    "import seaborn as sns\n",
    "import joblib\n",
    "import json"
   ]
  },
  {
   "cell_type": "markdown",
   "metadata": {},
   "source": [
    "## 1. Chargement des Données Prétraitées"
   ]
  },
  {
   "cell_type": "code",
   "execution_count": 2,
   "metadata": {},
   "outputs": [
    {
     "name": "stdout",
     "output_type": "stream",
     "text": [
      "Dimensions du dataset: (15, 15)\n"
     ]
    }
   ],
   "source": [
    "# Charger les données\n",
    "df = pd.read_csv('../data/sleep_data_processed.csv')\n",
    "print('Dimensions du dataset:', df.shape)"
   ]
  },
  {
   "cell_type": "markdown",
   "metadata": {},
   "source": [
    "## 2. Préparation des Features"
   ]
  },
  {
   "cell_type": "code",
   "execution_count": 3,
   "metadata": {},
   "outputs": [],
   "source": [
    "# Définir les features\n",
    "features = [\n",
    "    'Age', 'Sleep Duration', 'Physical Activity Level',\n",
    "    'Stress Level', 'Heart Rate', 'Daily Steps',\n",
    "    'Gender_num', 'Blood_Pressure_num'\n",
    "]\n",
    "\n",
    "X = df[features]\n",
    "y = df['Quality of Sleep']\n",
    "\n",
    "# Split des données\n",
    "X_train, X_test, y_train, y_test = train_test_split(X, y, test_size=0.2, random_state=42)\n",
    "\n",
    "# Standardisation\n",
    "scaler = StandardScaler()\n",
    "X_train_scaled = scaler.fit_transform(X_train)\n",
    "X_test_scaled = scaler.transform(X_test)\n",
    "\n",
    "# Convertir en DataFrame pour garder les noms des colonnes\n",
    "X_train_scaled = pd.DataFrame(X_train_scaled, columns=X_train.columns)\n",
    "X_test_scaled = pd.DataFrame(X_test_scaled, columns=X_test.columns)"
   ]
  },
  {
   "cell_type": "markdown",
   "metadata": {},
   "source": [
    "## 3. Configuration des Modèles"
   ]
  },
  {
   "cell_type": "code",
   "execution_count": 4,
   "metadata": {},
   "outputs": [],
   "source": [
    "# Paramètres pour Random Forest\n",
    "rf_params = {\n",
    "    'n_estimators': [50, 100, 200],\n",
    "    'max_depth': [None, 10, 20, 30],\n",
    "    'min_samples_split': [2, 5, 10],\n",
    "    'min_samples_leaf': [1, 2, 4]\n",
    "}\n",
    "\n",
    "# Paramètres pour Gradient Boosting\n",
    "gb_params = {\n",
    "    'n_estimators': [50, 100, 200],\n",
    "    'learning_rate': [0.01, 0.1, 0.3],\n",
    "    'max_depth': [3, 5, 7],\n",
    "    'min_samples_split': [2, 5, 10]\n",
    "}"
   ]
  },
  {
   "cell_type": "markdown",
   "metadata": {},
   "source": [
    "## 4. Entraînement et Optimisation"
   ]
  },
  {
   "cell_type": "code",
   "execution_count": 5,
   "metadata": {},
   "outputs": [
    {
     "name": "stdout",
     "output_type": "stream",
     "text": [
      "Fitting 5 folds for each of 108 candidates, totalling 540 fits\n"
     ]
    },
    {
     "name": "stderr",
     "output_type": "stream",
     "text": [
      "/Users/ines/.local/lib/python3.11/site-packages/pandas/core/arrays/masked.py:60: UserWarning: Pandas requires version '1.3.6' or newer of 'bottleneck' (version '1.3.5' currently installed).\n",
      "  from pandas.core import (\n",
      "/Users/ines/.local/lib/python3.11/site-packages/pandas/core/arrays/masked.py:60: UserWarning: Pandas requires version '1.3.6' or newer of 'bottleneck' (version '1.3.5' currently installed).\n",
      "  from pandas.core import (\n",
      "/Users/ines/.local/lib/python3.11/site-packages/pandas/core/arrays/masked.py:60: UserWarning: Pandas requires version '1.3.6' or newer of 'bottleneck' (version '1.3.5' currently installed).\n",
      "  from pandas.core import (\n",
      "/Users/ines/.local/lib/python3.11/site-packages/pandas/core/arrays/masked.py:60: UserWarning: Pandas requires version '1.3.6' or newer of 'bottleneck' (version '1.3.5' currently installed).\n",
      "  from pandas.core import (\n",
      "/Users/ines/.local/lib/python3.11/site-packages/pandas/core/arrays/masked.py:60: UserWarning: Pandas requires version '1.3.6' or newer of 'bottleneck' (version '1.3.5' currently installed).\n",
      "  from pandas.core import (\n",
      "/Users/ines/.local/lib/python3.11/site-packages/pandas/core/arrays/masked.py:60: UserWarning: Pandas requires version '1.3.6' or newer of 'bottleneck' (version '1.3.5' currently installed).\n",
      "  from pandas.core import (\n",
      "/Users/ines/.local/lib/python3.11/site-packages/pandas/core/arrays/masked.py:60: UserWarning: Pandas requires version '1.3.6' or newer of 'bottleneck' (version '1.3.5' currently installed).\n",
      "  from pandas.core import (\n",
      "/Users/ines/.local/lib/python3.11/site-packages/pandas/core/arrays/masked.py:60: UserWarning: Pandas requires version '1.3.6' or newer of 'bottleneck' (version '1.3.5' currently installed).\n",
      "  from pandas.core import (\n"
     ]
    },
    {
     "name": "stdout",
     "output_type": "stream",
     "text": [
      "\n",
      "Résultats pour Random Forest:\n",
      "Meilleurs paramètres: {'max_depth': None, 'min_samples_leaf': 1, 'min_samples_split': 2, 'n_estimators': 200}\n",
      "Meilleur score R²: 0.841\n",
      "Fitting 5 folds for each of 81 candidates, totalling 405 fits\n",
      "\n",
      "Résultats pour Gradient Boosting:\n",
      "Meilleurs paramètres: {'learning_rate': 0.3, 'max_depth': 3, 'min_samples_split': 5, 'n_estimators': 100}\n",
      "Meilleur score R²: 0.950\n"
     ]
    }
   ],
   "source": [
    "# Fonction d'entraînement avec GridSearchCV\n",
    "def train_model(model, params, X, y, name):\n",
    "    grid_search = GridSearchCV(\n",
    "        model,\n",
    "        params,\n",
    "        cv=5,\n",
    "        scoring='r2',\n",
    "        n_jobs=-1,\n",
    "        verbose=1\n",
    "    )\n",
    "    \n",
    "    grid_search.fit(X, y)\n",
    "    \n",
    "    print(f'\\nRésultats pour {name}:')\n",
    "    print(f'Meilleurs paramètres: {grid_search.best_params_}')\n",
    "    print(f'Meilleur score R²: {grid_search.best_score_:.3f}')\n",
    "    \n",
    "    return grid_search.best_estimator_, grid_search.best_params_\n",
    "\n",
    "# Entraîner Random Forest\n",
    "rf_model, rf_best_params = train_model(\n",
    "    RandomForestRegressor(random_state=42),\n",
    "    rf_params,\n",
    "    X_train_scaled,\n",
    "    y_train,\n",
    "    'Random Forest'\n",
    ")\n",
    "\n",
    "# Entraîner Gradient Boosting\n",
    "gb_model, gb_best_params = train_model(\n",
    "    GradientBoostingRegressor(random_state=42),\n",
    "    gb_params,\n",
    "    X_train_scaled,\n",
    "    y_train,\n",
    "    'Gradient Boosting'\n",
    ")"
   ]
  },
  {
   "cell_type": "markdown",
   "metadata": {},
   "source": [
    "## 5. Évaluation des Modèles"
   ]
  },
  {
   "cell_type": "code",
   "execution_count": 6,
   "metadata": {},
   "outputs": [
    {
     "name": "stdout",
     "output_type": "stream",
     "text": [
      "\n",
      "Évaluation de Random Forest:\n",
      "Train RMSE: 0.262\n",
      "Test RMSE: 0.643\n",
      "Train R²: 0.976\n",
      "Test R²: 0.735\n",
      "\n",
      "Évaluation de Gradient Boosting:\n",
      "Train RMSE: 0.000\n",
      "Test RMSE: 0.934\n",
      "Train R²: 1.000\n",
      "Test R²: 0.440\n"
     ]
    }
   ],
   "source": [
    "def evaluate_model(model, X_train, y_train, X_test, y_test, name):\n",
    "    # Prédictions\n",
    "    y_train_pred = model.predict(X_train)\n",
    "    y_test_pred = model.predict(X_test)\n",
    "    \n",
    "    # Métriques\n",
    "    train_rmse = np.sqrt(mean_squared_error(y_train, y_train_pred))\n",
    "    test_rmse = np.sqrt(mean_squared_error(y_test, y_test_pred))\n",
    "    train_r2 = r2_score(y_train, y_train_pred)\n",
    "    test_r2 = r2_score(y_test, y_test_pred)\n",
    "    \n",
    "    print(f'\\nÉvaluation de {name}:')\n",
    "    print(f'Train RMSE: {train_rmse:.3f}')\n",
    "    print(f'Test RMSE: {test_rmse:.3f}')\n",
    "    print(f'Train R²: {train_r2:.3f}')\n",
    "    print(f'Test R²: {test_r2:.3f}')\n",
    "    \n",
    "    return {\n",
    "        'train_metrics': {'rmse': train_rmse, 'r2': train_r2},\n",
    "        'test_metrics': {'rmse': test_rmse, 'r2': test_r2}\n",
    "    }\n",
    "\n",
    "# Évaluer les modèles\n",
    "rf_metrics = evaluate_model(rf_model, X_train_scaled, y_train, X_test_scaled, y_test, 'Random Forest')\n",
    "gb_metrics = evaluate_model(gb_model, X_train_scaled, y_train, X_test_scaled, y_test, 'Gradient Boosting')"
   ]
  },
  {
   "cell_type": "markdown",
   "metadata": {},
   "source": [
    "## 6. Importance des Features"
   ]
  },
  {
   "cell_type": "code",
   "execution_count": 7,
   "metadata": {},
   "outputs": [
    {
     "data": {
      "image/png": "[encoded data removed]",
      "text/plain": [
       "<Figure size 1000x600 with 1 Axes>"
      ]
     },
     "metadata": {},
     "output_type": "display_data"
    }
   ],
   "source": [
    "# Visualiser l'importance des features pour Random Forest\n",
    "feature_importance = pd.DataFrame({\n",
    "    'feature': features,\n",
    "    'importance': rf_model.feature_importances_\n",
    "}).sort_values('importance', ascending=False)\n",
    "\n",
    "plt.figure(figsize=(10, 6))\n",
    "sns.barplot(data=feature_importance, x='importance', y='feature')\n",
    "plt.title('Importance des Features (Random Forest)')\n",
    "plt.show()"
   ]
  },
  {
   "cell_type": "markdown",
   "metadata": {},
   "source": [
    "## 7. Sauvegarde du Meilleur Modèle"
   ]
  },
  {
   "cell_type": "code",
   "execution_count": null,
   "metadata": {},
   "outputs": [],
   "source": [
    "# Sélectionner le meilleur modèle basé sur le R² de test\n",
    "if rf_metrics['test_metrics']['r2'] > gb_metrics['test_metrics']['r2']:\n",
    "    best_model = rf_model\n",
    "    best_params = rf_best_params\n",
    "    best_metrics = rf_metrics\n",
    "    model_name = 'random_forest'\n",
    "else:\n",
    "    best_model = gb_model\n",
    "    best_params = gb_best_params\n",
    "    best_metrics = gb_metrics\n",
    "    model_name = 'gradient_boosting'\n",
    "\n",
    "# Sauvegarder le modèle\n",
    "joblib.dump(best_model, f'../models/saved_models/best_{model_name}_model.joblib')\n",
    "joblib.dump(scaler, '../models/saved_models/scaler.joblib')\n",
    "\n",
    "# Sauvegarder la liste des features\n",
    "with open('../models/saved_models/feature_list.txt', 'w') as f:\n",
    "    f.write('\\n'.join(features))\n",
    "\n",
    "# Sauvegarder les métriques\n",
    "metrics = {\n",
    "    'model_name': model_name,\n",
    "    'best_parameters': best_params,\n",
    "    'train_metrics': best_metrics['train_metrics'],\n",
    "    'test_metrics': best_metrics['test_metrics'],\n",
    "    'features': features\n",
    "}\n",
    "\n",
    "with open(f'../models/saved_models/{model_name}_model_metrics.json', 'w') as f:\n",
    "    json.dump(metrics, f, indent=4)\n",
    "\n",
    "print(f'\\nMeilleur modèle ({model_name}) sauvegardé avec succès!')"
   ]
  }
 ],
 "metadata": {
  "kernelspec": {
   "display_name": "Python 3 (ipykernel)",
   "language": "python",
   "name": "python3"
  },
  "language_info": {
   "codemirror_mode": {
    "name": "ipython",
    "version": 3
   },
   "file_extension": ".py",
   "mimetype": "text/x-python",
   "name": "python",
   "nbconvert_exporter": "python",
   "pygments_lexer": "ipython3",
   "version": "3.11.5"
  }
 },
 "nbformat": 4,
 "nbformat_minor": 4
}
